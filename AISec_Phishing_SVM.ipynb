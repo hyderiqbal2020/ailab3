{
  "nbformat": 4,
  "nbformat_minor": 0,
  "metadata": {
    "kernelspec": {
      "display_name": "Py35",
      "language": "python",
      "name": "py35"
    },
    "language_info": {
      "codemirror_mode": {
        "name": "ipython",
        "version": 3
      },
      "file_extension": ".py",
      "mimetype": "text/x-python",
      "name": "python",
      "nbconvert_exporter": "python",
      "pygments_lexer": "ipython3",
      "version": "3.5.4"
    },
    "colab": {
      "name": "AISec_Phishing_SVM.ipynb",
      "provenance": [],
      "collapsed_sections": []
    }
  },
  "cells": [
    {
      "cell_type": "code",
      "metadata": {
        "id": "OiLSYUSo4Qvl",
        "colab_type": "code",
        "colab": {}
      },
      "source": [
        "import pandas as pd\n",
        "import numpy as np\n",
        "from sklearn import *\n",
        "from sklearn.linear_model import LogisticRegression\n",
        "from sklearn.metrics import accuracy_score\n",
        "import warnings \n",
        "warnings.simplefilter('ignore')"
      ],
      "execution_count": 0,
      "outputs": []
    },
    {
      "cell_type": "markdown",
      "metadata": {
        "id": "jf9SR3hzzp6l",
        "colab_type": "text"
      },
      "source": [
        "Importing the Phishing dataset\n"
      ]
    },
    {
      "cell_type": "code",
      "metadata": {
        "id": "AVecDCzc4Qvo",
        "colab_type": "code",
        "colab": {}
      },
      "source": [
        "phishing_dataset = np.genfromtxt('phishing_dataset.csv', delimiter=',', dtype=np.int32)\n",
        "samples = phishing_dataset[:,:-1]\n",
        "targets = phishing_dataset[:, -1]"
      ],
      "execution_count": 0,
      "outputs": []
    },
    {
      "cell_type": "code",
      "metadata": {
        "id": "PxTkqknD4Qvr",
        "colab_type": "code",
        "colab": {}
      },
      "source": [
        "from sklearn.model_selection import train_test_split\n",
        "\n",
        "training_samples, testing_samples, training_targets, testing_targets = train_test_split(\n",
        "         samples, targets, test_size=0.25, random_state=90)"
      ],
      "execution_count": 0,
      "outputs": []
    },
    {
      "cell_type": "markdown",
      "metadata": {
        "id": "CB21nU2cId9q",
        "colab_type": "text"
      },
      "source": [
        "Using svm"
      ]
    },
    {
      "cell_type": "code",
      "metadata": {
        "id": "xv0cUKVplULu",
        "colab_type": "code",
        "colab": {}
      },
      "source": [
        "from sklearn.svm import SVC\n",
        "\n",
        "svm = SVC(kernel='linear', C=1.0, random_state=1)\n",
        "svm.fit(training_samples, training_targets)\n",
        "\n",
        "testing_pred = svm.predict(testing_samples)"
      ],
      "execution_count": 0,
      "outputs": []
    },
    {
      "cell_type": "code",
      "metadata": {
        "id": "DJ5IEQOGlje5",
        "colab_type": "code",
        "outputId": "9cdcbbb1-af4c-46d2-c1d1-91d48dcc97d9",
        "colab": {
          "base_uri": "https://localhost:8080/",
          "height": 51
        }
      },
      "source": [
        "from sklearn.metrics import accuracy_score\n",
        "\n",
        "print('Misclassified samples: %d' % (testing_targets != testing_pred).sum())\n",
        "print('Accuracy: %.2f' % accuracy_score(testing_targets, testing_pred))"
      ],
      "execution_count": 12,
      "outputs": [
        {
          "output_type": "stream",
          "text": [
            "Misclassified samples: 189\n",
            "Accuracy: 0.93\n"
          ],
          "name": "stdout"
        }
      ]
    },
    {
      "cell_type": "markdown",
      "metadata": {
        "id": "o-ICSTPjFPDV",
        "colab_type": "text"
      },
      "source": [
        "Using logistic regression"
      ]
    },
    {
      "cell_type": "code",
      "metadata": {
        "id": "K0A52vBU4Qv7",
        "colab_type": "code",
        "colab": {}
      },
      "source": [
        " clf = LogisticRegression(random_state=100).fit(training_samples, training_targets)\n",
        "pred=clf.predict(testing_samples)"
      ],
      "execution_count": 0,
      "outputs": []
    },
    {
      "cell_type": "code",
      "metadata": {
        "id": "KnN5glAYEEmy",
        "colab_type": "code",
        "outputId": "173d8e59-65d1-48f6-a619-e1062218781c",
        "colab": {
          "base_uri": "https://localhost:8080/",
          "height": 51
        }
      },
      "source": [
        "print('Misclassified samples: %d' % (testing_targets != pred).sum())\n",
        "print('Accuracy: %.2f' % accuracy_score(testing_targets,pred))"
      ],
      "execution_count": 14,
      "outputs": [
        {
          "output_type": "stream",
          "text": [
            "Misclassified samples: 177\n",
            "Accuracy: 0.94\n"
          ],
          "name": "stdout"
        }
      ]
    },
    {
      "cell_type": "code",
      "metadata": {
        "id": "abcd-qBRF-02",
        "colab_type": "code",
        "colab": {}
      },
      "source": [
        "df = pd.read_csv('sms_spam_svm.csv')\n",
        "\n",
        "y = df.iloc[:, 0].values\n",
        "y = np.where(y == 'spam', -1, 1)\n",
        "\n",
        "X = df.iloc[:, [1, 2]].values"
      ],
      "execution_count": 0,
      "outputs": []
    },
    {
      "cell_type": "code",
      "metadata": {
        "id": "YJMqhny4MoLN",
        "colab_type": "code",
        "colab": {}
      },
      "source": [
        "from sklearn.model_selection import train_test_split\n",
        "\n",
        "X_train, X_test, y_train, y_test = train_test_split(\n",
        "         X, y, test_size=0.3, random_state=0)\n"
      ],
      "execution_count": 0,
      "outputs": []
    },
    {
      "cell_type": "code",
      "metadata": {
        "id": "EUwA43UUMuhC",
        "colab_type": "code",
        "colab": {}
      },
      "source": [
        "from sklearn.linear_model import LogisticRegression\n",
        "log_classifier = LogisticRegression()"
      ],
      "execution_count": 0,
      "outputs": []
    },
    {
      "cell_type": "code",
      "metadata": {
        "id": "oNEvWr4xMxiO",
        "colab_type": "code",
        "colab": {
          "base_uri": "https://localhost:8080/",
          "height": 102
        },
        "outputId": "acf0a819-29ba-458e-93e5-52e9243e9e38"
      },
      "source": [
        "log_classifier.fit(X_train, y_train)"
      ],
      "execution_count": 6,
      "outputs": [
        {
          "output_type": "execute_result",
          "data": {
            "text/plain": [
              "LogisticRegression(C=1.0, class_weight=None, dual=False, fit_intercept=True,\n",
              "                   intercept_scaling=1, l1_ratio=None, max_iter=100,\n",
              "                   multi_class='auto', n_jobs=None, penalty='l2',\n",
              "                   random_state=None, solver='lbfgs', tol=0.0001, verbose=0,\n",
              "                   warm_start=False)"
            ]
          },
          "metadata": {
            "tags": []
          },
          "execution_count": 6
        }
      ]
    },
    {
      "cell_type": "code",
      "metadata": {
        "id": "EkVtiHIsM0Uv",
        "colab_type": "code",
        "colab": {}
      },
      "source": [
        "y_pred= log_classifier.predict(X_test)"
      ],
      "execution_count": 0,
      "outputs": []
    },
    {
      "cell_type": "code",
      "metadata": {
        "id": "EWfyPPhXM2pJ",
        "colab_type": "code",
        "colab": {
          "base_uri": "https://localhost:8080/",
          "height": 34
        },
        "outputId": "dda29338-44f5-4b22-91ab-a01d2dba91e7"
      },
      "source": [
        "print('Accuracy of logistic regression classifier on test set: {:.2f}'.format(log_classifier.score(X_test, y_test)))"
      ],
      "execution_count": 8,
      "outputs": [
        {
          "output_type": "stream",
          "text": [
            "Accuracy of logistic regression classifier on test set: 0.84\n"
          ],
          "name": "stdout"
        }
      ]
    },
    {
      "cell_type": "code",
      "metadata": {
        "id": "ec--iCDkM5Nr",
        "colab_type": "code",
        "colab": {}
      },
      "source": [
        ""
      ],
      "execution_count": 0,
      "outputs": []
    }
  ]
}